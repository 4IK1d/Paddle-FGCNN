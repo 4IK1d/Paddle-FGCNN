{
 "cells": [
  {
   "cell_type": "markdown",
   "metadata": {
    "jupyter": {
     "outputs_hidden": false
    }
   },
   "source": [
    "# 基于PEGASUS实现中文文本摘要\n",
    "\n",
    "# 1 概述\n",
    "\n",
    "文本摘要的目标是自动地将输入文本转换成简短摘要,为用户提供简明扼要的内容描述，是缓解文本信息过载的一个重要手段。 文本摘要也是自然语言生成领域中的一个重要任务，有很多应用场景，如新闻摘要、论文摘要、财报摘要、传记摘要、专利摘要、对话摘要、评论摘要、观点摘要、电影摘要、文章标题生成、商品名生成、自动报告生成、搜索结果预览等。\n",
    "\n",
    "本项目是基于预训练语言模型PEGASUS的中文文本摘要产业实践，具有以下优势：\n",
    "\n",
    "- **开箱即用**。本项目提供Taskflow接口，无需训练，仅需几行代码便可预测。\n",
    "- **效果领先**。在LCSTS上效果达到SOTA。\n",
    "- **高性能推理**。本项目基于[FasterGeneration](https://github.com/PaddlePaddle/PaddleNLP/tree/develop/faster_generation)进行推理加速，能够提供更高性能的推理体验。\n",
    "- **训练推理全流程打通**。本项目提供了全面的定制训练流程，从数据准备、模型训练预测，到模型推理部署，一应俱全。（推理部署见：[PaddleNLP](https://github.com/PaddlePaddle/PaddleNLP/tree/develop/applications/text_summarization/pegasus)）\n",
    "<br></br>\n"
   ]
  },
  {
   "cell_type": "markdown",
   "metadata": {},
   "source": [
    "## 1.1 开箱即用\n",
    "下面简单列举下几个场景的应用，包括并不限于以下场景。（需要参考3.3.2节安装下PaddleNLP）"
   ]
  },
  {
   "cell_type": "code",
   "execution_count": 5,
   "metadata": {
    "execution": {
     "iopub.execute_input": "2023-01-13T07:34:37.624960Z",
     "iopub.status.busy": "2023-01-13T07:34:37.624298Z",
     "iopub.status.idle": "2023-01-13T07:34:41.073061Z",
     "shell.execute_reply": "2023-01-13T07:34:41.071946Z",
     "shell.execute_reply.started": "2023-01-13T07:34:37.624928Z"
    },
    "scrolled": true,
    "tags": []
   },
   "outputs": [
    {
     "name": "stdout",
     "output_type": "stream",
     "text": [
      "WARNING: Ignoring invalid distribution -dm (/opt/conda/envs/python35-paddle120-env/lib/python3.7/site-packages)\r\n",
      "WARNING: Ignoring invalid distribution -qdm (/opt/conda/envs/python35-paddle120-env/lib/python3.7/site-packages)\r\n",
      "WARNING: Ignoring invalid distribution - (/opt/conda/envs/python35-paddle120-env/lib/python3.7/site-packages)\r\n",
      "WARNING: Ignoring invalid distribution -dm (/opt/conda/envs/python35-paddle120-env/lib/python3.7/site-packages)\r\n",
      "WARNING: Ignoring invalid distribution -qdm (/opt/conda/envs/python35-paddle120-env/lib/python3.7/site-packages)\r\n",
      "WARNING: Ignoring invalid distribution - (/opt/conda/envs/python35-paddle120-env/lib/python3.7/site-packages)\r\n",
      "WARNING: Ignoring invalid distribution -dm (/opt/conda/envs/python35-paddle120-env/lib/python3.7/site-packages)\r\n",
      "WARNING: Ignoring invalid distribution -qdm (/opt/conda/envs/python35-paddle120-env/lib/python3.7/site-packages)\r\n",
      "WARNING: Ignoring invalid distribution - (/opt/conda/envs/python35-paddle120-env/lib/python3.7/site-packages)\r\n",
      "ERROR: pip's dependency resolver does not currently take into account all the packages that are installed. This behaviour is the source of the following dependency conflicts.\r\n",
      "sahi 0.10.1 requires tqdm>=4.48.2, but you have tqdm 4.27.0 which is incompatible.\r\n",
      "WARNING: Ignoring invalid distribution -dm (/opt/conda/envs/python35-paddle120-env/lib/python3.7/site-packages)\r\n",
      "WARNING: Ignoring invalid distribution -qdm (/opt/conda/envs/python35-paddle120-env/lib/python3.7/site-packages)\r\n",
      "WARNING: Ignoring invalid distribution - (/opt/conda/envs/python35-paddle120-env/lib/python3.7/site-packages)\r\n",
      "WARNING: Ignoring invalid distribution -dm (/opt/conda/envs/python35-paddle120-env/lib/python3.7/site-packages)\r\n",
      "WARNING: Ignoring invalid distribution -qdm (/opt/conda/envs/python35-paddle120-env/lib/python3.7/site-packages)\r\n",
      "WARNING: Ignoring invalid distribution - (/opt/conda/envs/python35-paddle120-env/lib/python3.7/site-packages)\r\n",
      "WARNING: Ignoring invalid distribution -dm (/opt/conda/envs/python35-paddle120-env/lib/python3.7/site-packages)\r\n",
      "WARNING: Ignoring invalid distribution -qdm (/opt/conda/envs/python35-paddle120-env/lib/python3.7/site-packages)\r\n",
      "WARNING: Ignoring invalid distribution - (/opt/conda/envs/python35-paddle120-env/lib/python3.7/site-packages)\r\n"
     ]
    }
   ],
   "source": [
    "!pip install paddlenlp>=2.3.4 --user"
   ]
  },
  {
   "cell_type": "code",
   "execution_count": 6,
   "metadata": {
    "execution": {
     "iopub.execute_input": "2023-01-13T07:34:41.093912Z",
     "iopub.status.busy": "2023-01-13T07:34:41.093593Z",
     "iopub.status.idle": "2023-01-13T07:34:41.098240Z",
     "shell.execute_reply": "2023-01-13T07:34:41.097586Z",
     "shell.execute_reply.started": "2023-01-13T07:34:41.093888Z"
    },
    "scrolled": true,
    "tags": []
   },
   "outputs": [
    {
     "data": {
      "text/plain": [
       "'2.0.0'"
      ]
     },
     "execution_count": 6,
     "metadata": {},
     "output_type": "execute_result"
    }
   ],
   "source": [
    "import paddlenlp\n",
    "paddlenlp.__version__"
   ]
  },
  {
   "cell_type": "code",
   "execution_count": null,
   "metadata": {
    "execution": {
     "iopub.execute_input": "2023-01-13T07:34:41.099800Z",
     "iopub.status.busy": "2023-01-13T07:34:41.099562Z",
     "iopub.status.idle": "2023-01-13T07:34:41.111139Z",
     "shell.execute_reply": "2023-01-13T07:34:41.110211Z",
     "shell.execute_reply.started": "2023-01-13T07:34:41.099779Z"
    },
    "scrolled": true,
    "tags": []
   },
   "outputs": [],
   "source": [
    "from paddlenlp import Taskflow\n",
    "summarizer = Taskflow(\"text_summarization\")"
   ]
  },
  {
   "cell_type": "markdown",
   "metadata": {},
   "source": [
    "#### 新闻摘要"
   ]
  },
  {
   "cell_type": "code",
   "execution_count": null,
   "metadata": {
    "execution": {
     "iopub.status.busy": "2023-01-13T07:31:48.259619Z",
     "iopub.status.idle": "2023-01-13T07:31:48.259965Z",
     "shell.execute_reply": "2023-01-13T07:31:48.259807Z",
     "shell.execute_reply.started": "2023-01-13T07:31:48.259793Z"
    },
    "scrolled": true,
    "tags": []
   },
   "outputs": [],
   "source": [
    "text = '63岁退休教师谢淑华，拉着人力板车，历时1年，走了2万4千里路，带着年过九旬的妈妈环游中国，完成了妈妈“一辈子在锅台边转，也想出去走走”的心愿。她说：“妈妈愿意出去走走，我就愿意拉着，孝心不能等，能走多远就走多远。'\n",
    "print(f'Content: {text}\\n')\n",
    "title = summarizer(text)\n",
    "print(f'Title: {title[0]}')"
   ]
  },
  {
   "cell_type": "markdown",
   "metadata": {
    "execution": {
     "iopub.execute_input": "2022-10-24T10:52:06.827797Z",
     "iopub.status.busy": "2022-10-24T10:52:06.826800Z",
     "iopub.status.idle": "2022-10-24T10:52:06.831411Z",
     "shell.execute_reply": "2022-10-24T10:52:06.830645Z",
     "shell.execute_reply.started": "2022-10-24T10:52:06.827755Z"
    }
   },
   "source": [
    "#### 房地产摘要"
   ]
  },
  {
   "cell_type": "code",
   "execution_count": null,
   "metadata": {
    "execution": {
     "iopub.status.busy": "2023-01-13T07:31:48.261279Z",
     "iopub.status.idle": "2023-01-13T07:31:48.261732Z",
     "shell.execute_reply": "2023-01-13T07:31:48.261583Z",
     "shell.execute_reply.started": "2023-01-13T07:31:48.261566Z"
    },
    "scrolled": true,
    "tags": []
   },
   "outputs": [],
   "source": [
    "text = '2022年，中国房地产进入转型阵痛期，传统“高杠杆、快周转”的模式难以为继，万科甚至直接喊话，中国房地产进入“黑铁时代”。'\n",
    "print(f'Content: {text}\\n')\n",
    "title = summarizer(text)\n",
    "print(f'Title: {title[0]}')"
   ]
  },
  {
   "cell_type": "markdown",
   "metadata": {},
   "source": [
    "#### 教育摘要"
   ]
  },
  {
   "cell_type": "code",
   "execution_count": null,
   "metadata": {
    "execution": {
     "iopub.status.busy": "2023-01-13T07:31:48.262852Z",
     "iopub.status.idle": "2023-01-13T07:31:48.263186Z",
     "shell.execute_reply": "2023-01-13T07:31:48.263046Z",
     "shell.execute_reply.started": "2023-01-13T07:31:48.263032Z"
    },
    "scrolled": true,
    "tags": []
   },
   "outputs": [],
   "source": [
    "text = '据悉，2022年教育部将围绕“巩固提高、深化落实、创新突破”三个关键词展开工作。要进一步强化学校教育主阵地作用，继续把落实“双减”作为学校工作的重中之重，重点从提高作业设计水平、提高课后服务水平、提高课堂教学水平、提高均衡发展水平四个方面持续巩固提高学校“双减”工作水平。'\n",
    "print(f'Content: {text}\\n')\n",
    "title = summarizer(text)\n",
    "print(f'Title: {title[0]}')"
   ]
  },
  {
   "cell_type": "markdown",
   "metadata": {},
   "source": [
    "#### 影评摘要"
   ]
  },
  {
   "cell_type": "code",
   "execution_count": null,
   "metadata": {
    "execution": {
     "iopub.status.busy": "2023-01-13T07:31:48.267017Z",
     "iopub.status.idle": "2023-01-13T07:31:48.267337Z",
     "shell.execute_reply": "2023-01-13T07:31:48.267189Z",
     "shell.execute_reply.started": "2023-01-13T07:31:48.267175Z"
    },
    "scrolled": true,
    "tags": []
   },
   "outputs": [],
   "source": [
    "text = '其次，《唐朝诡事录》每个单元的故事，都可独立成为一部“电影”观看，且质感极佳。这一点，“甘棠驿”、“黄梅杀”、“石桥图”三个单元尤其明显，不管从故事的布局 还是“氛围感”来说，虽说不上特别惊艳，但是却让 人能看见该剧的满满诚意。'\n",
    "print(f'Content: {text}\\n')\n",
    "title = summarizer(text)\n",
    "print(f'Title: {title[0]}')"
   ]
  },
  {
   "cell_type": "markdown",
   "metadata": {},
   "source": [
    "#### 论文摘要"
   ]
  },
  {
   "cell_type": "code",
   "execution_count": null,
   "metadata": {
    "execution": {
     "iopub.status.busy": "2023-01-13T07:31:48.269585Z",
     "iopub.status.idle": "2023-01-13T07:31:48.269895Z",
     "shell.execute_reply": "2023-01-13T07:31:48.269753Z",
     "shell.execute_reply.started": "2023-01-13T07:31:48.269740Z"
    },
    "scrolled": true,
    "tags": []
   },
   "outputs": [],
   "source": [
    "text = '综述了人工神经网络FPGA实现的研究进展和关键技术，分析了如何利用FPGA的可重构技术来实现人工神经网络，探讨了实现过程中的一些问题，并介绍了作为神经网络FPGA实现的基础一可重构技术。指出测试平台设计、软件工具、FPGA友好学习算法及拓扑结构自适应等方面的研究，是今后研究的热点。'\n",
    "print(f'Content: {text}\\n')\n",
    "title = summarizer(text)\n",
    "print(f'Title: {title[0]}')"
   ]
  },
  {
   "cell_type": "markdown",
   "metadata": {},
   "source": [
    "#### 医疗摘要"
   ]
  },
  {
   "cell_type": "code",
   "execution_count": null,
   "metadata": {
    "execution": {
     "iopub.status.busy": "2023-01-13T07:31:48.271330Z",
     "iopub.status.idle": "2023-01-13T07:31:48.271673Z",
     "shell.execute_reply": "2023-01-13T07:31:48.271516Z",
     "shell.execute_reply.started": "2023-01-13T07:31:48.271503Z"
    },
    "scrolled": true,
    "tags": []
   },
   "outputs": [],
   "source": [
    "text = '党参有降血脂，降血压的作用，可以彻底消除血液中的垃圾，从而对冠心病以及心血管疾病的患者都有一定的稳定预防工作作用，因此平时口服党参能远离三高的危害。另外党参除了益气养血，降低中枢神经作用，调整消化系统功能，健脾补肺的功能。'\n",
    "print(f'Content: {text}\\n')\n",
    "title = summarizer(text)\n",
    "print(f'Title: {title[0]}\\n')\n",
    "\n",
    "text = '肾结石一般在0.6以下的是药物排石,常用的药物如肾石通颗粒,对症药物等.大于0.6以上的是体外冲击波碎石,大于2.0以上的可以手术治疗.建议你到医院的泌尿外科进行仔细检查,查明原因,及时治疗.肾结石一粒直径大于1CM就很难通过药物排出来.可以做碎石治疗,如果高于1CM,可以用中药的排石汤,抗菌素和对症治疗.当前先解决疼痛,稳定情绪,稳定体质.平时需发生改变饮食结构和习惯,建议多做剧烈运动或多饮水。'\n",
    "print(f'Content: {text}\\n')\n",
    "title = summarizer(text)\n",
    "print(f'Title: {title[0]}')"
   ]
  },
  {
   "cell_type": "markdown",
   "metadata": {
    "execution": {
     "iopub.execute_input": "2022-10-24T12:03:32.779641Z",
     "iopub.status.busy": "2022-10-24T12:03:32.779041Z",
     "iopub.status.idle": "2022-10-24T12:03:32.783345Z",
     "shell.execute_reply": "2022-10-24T12:03:32.782617Z",
     "shell.execute_reply.started": "2022-10-24T12:03:32.779604Z"
    }
   },
   "source": [
    "#### 法律摘要"
   ]
  },
  {
   "cell_type": "code",
   "execution_count": null,
   "metadata": {
    "execution": {
     "iopub.status.busy": "2023-01-13T07:31:48.272714Z",
     "iopub.status.idle": "2023-01-13T07:31:48.273022Z",
     "shell.execute_reply": "2023-01-13T07:31:48.272885Z",
     "shell.execute_reply.started": "2023-01-13T07:31:48.272872Z"
    },
    "scrolled": true,
    "tags": []
   },
   "outputs": [],
   "source": [
    "text = '过户流程为，现场竞买成功后，买受人应立即支付成交价一定比例的款项作为定金，并在拍卖行协助>下与委托人签订拍卖房地产转让合同书。买受人再支付全部价款后，凭转让合同书和相关证明文件到房地产登记机关办理产权过户手续，取得房地产权证。房屋司法拍卖流程一、接受拍卖委托在这一阶段，委托人将有意要拍卖的房产明确委托给拍卖行，双方签订委托房产拍卖协议，对委托拍卖的标的物达成基本意向。委托人在委托时一般要想拍卖行提供房地产权证、身份证等相关房产证明文件。二、拍卖房产标的的调查确认拍卖行对房产委托人提供的房地产产权证明、有关文件、房产证明材料等进一步核实，必要时到相关部门调查取证，同时还必须对房产进行现场勘查。三、接受委托、签订委托、拍卖合同书经调查确认后，拍卖行认为符合拍卖委托条件的，与委托人签订委托拍卖合同。委托拍卖必须符合《拍卖法》的要求。委托拍卖合同中要对拍卖房地产的情况、拍卖费用、拍卖方式和期限、违约责任等加以明确。四、房地产拍卖底价的确定拍卖行对房地产市场进行调查与分析，必要时请专业的房地产估价人员对拍卖房地产进行价格评估，与委托方共同商谈，后确定拍卖底价和起拍价。五、发布拍卖公告，组织接待竞买人拍卖行一般要在拍卖日前半个月至一个月前登报或通过电视媒体以公告形式发布拍卖房地产的信息，拍卖行要对公告的内容真实性负责。同时，组织接待竞买人，向竞买人提供资料，审查竞买人资格，收取保证金，完成竞买人登记。'\n",
    "print(f'Content: {text}\\n')\n",
    "title = summarizer(text)\n",
    "print(f'Title: {title[0]}')"
   ]
  },
  {
   "cell_type": "markdown",
   "metadata": {},
   "source": [
    "从上述场景来看，综合效果还是不错的。Taskflow底层调用的模型是IDEA-CCNL/Randeng-Pegasus-523M-Summary-Chinese，该模型在多个中文摘要数据集进行训练，在中文摘要上取得了非常好的效果。\n",
    "\n",
    "如果针对自己的特有领域或者效果不太好的时候，也可以增加语料，在该模型上进行微调，可以参考本项目第3节进行实操。"
   ]
  },
  {
   "cell_type": "markdown",
   "metadata": {},
   "source": [
    "## 1.2 效果领先\n",
    "<center><image src=\"https://ai-studio-static-online.cdn.bcebos.com/815edff4d9ef45d59b8a7857b3b4cdccf5eb7bd1f4de46609a1d75df6fbddc13\" width=\"600\"></center>\n",
    "\n",
    "<center><br>图1 中文摘要模型效果对比 <sup>1</sup> </br></center>\n",
    "<br></br>\n",
    "从上图可以看出最后Randeng-Pegasus的两个模型效果都挺不错，523M已然最优。\n",
    "\n",
    "* 上述实验指标摘自t5-pegasus和CPM以及IDEA-CCNL的代码和论文。\n",
    "<br></br>\n",
    "<br></br>\n",
    "\n",
    "## 1.3 高性能推理\n",
    "<center><image src=\"https://ai-studio-static-online.cdn.bcebos.com/5ddd34d217ff4fcb9d47926c9469fb631da00910fc3144f18cc45e3e00896778\" width=\"700\"></center>\n",
    "    \n",
    "<center><br>图2 PEGASUS加速效果对比 <sup></sup> </br></center>\n",
    "\n",
    "从上图可以看出，搭载了[FasterGeneration](https://github.com/PaddlePaddle/PaddleNLP/tree/develop/faster_generation) 后，相较于Hugging Face的推理来看，我们的PEGASUS模型在FP16下加速比近20倍，FP32下加速远超10倍。（完整超参见[perf](https://github.com/PaddlePaddle/PaddleNLP/tree/develop/faster_generation)）\n",
    "\n",
    "因此，在本章节中，我们将介绍PEGASUS模型，并提供中文摘要的SOTA模型。"
   ]
  },
  {
   "cell_type": "markdown",
   "metadata": {
    "jupyter": {
     "outputs_hidden": false
    }
   },
   "source": [
    "# 2. PEGASUS模型解读\n",
    "[PEGASUS: Pre-training with Extracted Gap-sentences for Abstractive Summarization](https://arxiv.org/abs/1912.08777) 是Google在2020年ICML会议上提出的工作。它针对文本摘要任务设计了无监督预训练任务（Gap Sentence Generation，简称GSG），即随机遮盖文档中的几个完整句子，让模型生成被遮盖的句子。该预训练任务能够很好地与实际地文本摘要任务匹配，从而使得预训练后的模型经过简单的微调后达到较好的摘要生成效果。\n",
    "<center><image src=\"https://ai-studio-static-online.cdn.bcebos.com/75da5c32588242e09d919d87549bd39c6526020dacf546ab8cc9580f4c75eb3a\" width=\"800\"></center>\n",
    "\n",
    "<center><br>图3 PEGASUS架构 <sup></sup> </br></center>\n",
    "<br></br>"
   ]
  },
  {
   "cell_type": "markdown",
   "metadata": {
    "jupyter": {
     "outputs_hidden": false
    }
   },
   "source": [
    "# 3. 案例与实践：基于PEGASUS实现中文文本摘要"
   ]
  },
  {
   "cell_type": "markdown",
   "metadata": {
    "execution": {
     "iopub.execute_input": "2022-10-19T04:18:08.289888Z",
     "iopub.status.busy": "2022-10-19T04:18:08.288771Z",
     "iopub.status.idle": "2022-10-19T04:18:08.295473Z",
     "shell.execute_reply": "2022-10-19T04:18:08.294342Z",
     "shell.execute_reply.started": "2022-10-19T04:18:08.289853Z"
    },
    "jupyter": {
     "outputs_hidden": false
    }
   },
   "source": [
    "## 3.1 方案设计\n",
    "\n",
    "本实践设计方案如 **3** 所示，本摘要的目的是从输入文档中生成准确和简洁的摘要。将content和title输入到模型中，通过decoder得到输出，并和title计算交叉熵损失，最后迭代训练优化得到最优模型。\n",
    "\n",
    "<br></br>\n",
    "<center><img src=\"https://ai-studio-static-online.cdn.bcebos.com/d350ce3a937c45efa8cfc7b8e078b66eecc4b4d1e7554852bfc86045a5fe3996\" width='900px'></center>\n",
    "<center><br>图4 PEGASUS文本摘要 方案设计 </br></center>\n"
   ]
  },
  {
   "cell_type": "markdown",
   "metadata": {
    "execution": {
     "iopub.execute_input": "2022-10-19T04:18:30.006747Z",
     "iopub.status.busy": "2022-10-19T04:18:30.006117Z",
     "iopub.status.idle": "2022-10-19T04:18:30.013049Z",
     "shell.execute_reply": "2022-10-19T04:18:30.011915Z",
     "shell.execute_reply.started": "2022-10-19T04:18:30.006701Z"
    }
   },
   "source": [
    "## 3.2 实现流程\n",
    "\n",
    "1. **数据读取**：读取训练集、验证集数据；\n",
    "2. **模型构建**：设计基于PEGASUS的文本摘要模型；\n",
    "3. **训练配置**：实例化模型，配置超参，指定模型迭代的优化算法；\n",
    "4. **模型训练和评估**：执行多轮训练不断调整参数，以达到较好的效果；\n",
    "5. **模型推理**：选取一条文本数据，通过模型推理出生成结果。"
   ]
  },
  {
   "cell_type": "markdown",
   "metadata": {},
   "source": [
    "## 3.3 实践详细实现 \n",
    "\n",
    "### 3.3.1 数据集介绍 \n",
    "\n",
    "[LCSTS（A Large-Scale Chinese Short Text Summarization Dataset）](http://icrc.hitsz.edu.cn/Article/show/139.html), 中文短文本摘要数据集。数据来源于新浪微博。\n",
    "\n",
    "LCSTS任选一条数据，示意如下：\n",
    "\n",
    "> {\"title\": \"世界首款智能牙刷Kolibree：让你远离蛀牙\", \"content\": \"在物联网爆发的年代，几乎任何东西都是“连接的“，昨天在CES上出现了世界第一款电动牙刷，能够通过内置的传感器自动分析用户的刷牙习惯，每次刷牙的时候它都能记录相关的刷牙数据，让大家的蛀牙少一些！\"}\n",
    "\n",
    "上面是1条样本，每条样本都是一行jsonline，content为内容，title为对应的摘要。"
   ]
  },
  {
   "cell_type": "markdown",
   "metadata": {},
   "source": [
    "### 3.3.2 数据读取"
   ]
  },
  {
   "cell_type": "markdown",
   "metadata": {},
   "source": [
    "安装并导入依赖库"
   ]
  },
  {
   "cell_type": "code",
   "execution_count": 8,
   "metadata": {
    "execution": {
     "iopub.execute_input": "2023-01-13T07:35:34.860571Z",
     "iopub.status.busy": "2023-01-13T07:35:34.860014Z",
     "iopub.status.idle": "2023-01-13T07:35:45.919854Z",
     "shell.execute_reply": "2023-01-13T07:35:45.918505Z",
     "shell.execute_reply.started": "2023-01-13T07:35:34.860538Z"
    },
    "scrolled": true,
    "tags": []
   },
   "outputs": [
    {
     "name": "stdout",
     "output_type": "stream",
     "text": [
      "环境安装成功！请重启内核！！\r\n"
     ]
    }
   ],
   "source": [
    "!pip install rouge==1.0.1 -i https://pypi.tuna.tsinghua.edu.cn/simple\n",
    "!pip install paddlenlp==2.4.2 -i https://pypi.tuna.tsinghua.edu.cn/simple\n",
    "\n",
    "from IPython.display  import clear_output\n",
    "clear_output()\n",
    "print(\"环境安装成功！请重启内核！！\")"
   ]
  },
  {
   "cell_type": "markdown",
   "metadata": {},
   "source": [
    "# Right start"
   ]
  },
  {
   "cell_type": "markdown",
   "metadata": {
    "execution": {
     "iopub.execute_input": "2023-01-13T07:37:07.338297Z",
     "iopub.status.busy": "2023-01-13T07:37:07.337732Z",
     "iopub.status.idle": "2023-01-13T07:37:14.445356Z",
     "shell.execute_reply": "2023-01-13T07:37:14.443990Z",
     "shell.execute_reply.started": "2023-01-13T07:37:07.338266Z"
    },
    "jupyter": {
     "outputs_hidden": true
    },
    "tags": []
   },
   "source": [
    "pip install paddlenlp==2.4.2 -i https://pypi.tuna.tsinghua.edu.cn/simple\n",
    "pip install datasets --user\n",
    "pip install rouge"
   ]
  },
  {
   "cell_type": "code",
   "execution_count": 1,
   "metadata": {
    "execution": {
     "iopub.execute_input": "2023-01-15T06:23:33.443248Z",
     "iopub.status.busy": "2023-01-15T06:23:33.442526Z",
     "iopub.status.idle": "2023-01-15T06:23:36.645638Z",
     "shell.execute_reply": "2023-01-15T06:23:36.644662Z",
     "shell.execute_reply.started": "2023-01-15T06:23:33.443190Z"
    },
    "scrolled": true,
    "tags": []
   },
   "outputs": [
    {
     "name": "stderr",
     "output_type": "stream",
     "text": [
      "[2023-01-15 14:23:36,029] [ WARNING] - Detected that datasets module was imported before paddlenlp. This may cause PaddleNLP datasets to be unavalible in intranet. Please import paddlenlp before datasets module to avoid download issues\r\n"
     ]
    }
   ],
   "source": [
    "import os\n",
    "import json\n",
    "import argparse\n",
    "import random\n",
    "import time\n",
    "import distutils.util\n",
    "from pprint import pprint\n",
    "from functools import partial\n",
    "from tqdm import tqdm\n",
    "import numpy as np\n",
    "import math\n",
    "from datasets import load_dataset\n",
    "import contextlib\n",
    "from rouge import Rouge\n",
    "from visualdl import LogWriter\n",
    "\n",
    "import paddle\n",
    "import paddle.nn as nn\n",
    "from paddle.io import BatchSampler, DistributedBatchSampler, DataLoader\n",
    "from paddlenlp.transformers import PegasusForConditionalGeneration, PegasusChineseTokenizer\n",
    "from paddlenlp.transformers import LinearDecayWithWarmup\n",
    "from paddlenlp.utils.log import logger\n",
    "from paddlenlp.metrics import BLEU\n",
    "from paddlenlp.data import DataCollatorForSeq2Seq"
   ]
  },
  {
   "cell_type": "code",
   "execution_count": 5,
   "metadata": {
    "execution": {
     "iopub.execute_input": "2023-01-15T06:24:30.565755Z",
     "iopub.status.busy": "2023-01-15T06:24:30.565500Z",
     "iopub.status.idle": "2023-01-15T06:24:30.569434Z",
     "shell.execute_reply": "2023-01-15T06:24:30.568635Z",
     "shell.execute_reply.started": "2023-01-15T06:24:30.565720Z"
    },
    "scrolled": true,
    "tags": []
   },
   "outputs": [],
   "source": [
    "from importlib import reload"
   ]
  },
  {
   "cell_type": "code",
   "execution_count": 2,
   "metadata": {
    "execution": {
     "iopub.execute_input": "2023-01-15T06:23:36.755150Z",
     "iopub.status.busy": "2023-01-15T06:23:36.754911Z",
     "iopub.status.idle": "2023-01-15T06:23:36.764703Z",
     "shell.execute_reply": "2023-01-15T06:23:36.763948Z",
     "shell.execute_reply.started": "2023-01-15T06:23:36.755128Z"
    },
    "scrolled": true,
    "tags": []
   },
   "outputs": [
    {
     "data": {
      "text/plain": [
       "'2.4.2'"
      ]
     },
     "execution_count": 2,
     "metadata": {},
     "output_type": "execute_result"
    }
   ],
   "source": [
    "import paddlenlp\n",
    "paddlenlp.__version__"
   ]
  },
  {
   "cell_type": "markdown",
   "metadata": {},
   "source": [
    "### 3.3.2 准备数据"
   ]
  },
  {
   "cell_type": "code",
   "execution_count": 3,
   "metadata": {
    "execution": {
     "iopub.execute_input": "2023-01-15T06:23:36.766969Z",
     "iopub.status.busy": "2023-01-15T06:23:36.766407Z",
     "iopub.status.idle": "2023-01-15T06:23:40.810117Z",
     "shell.execute_reply": "2023-01-15T06:23:40.809269Z",
     "shell.execute_reply.started": "2023-01-15T06:23:36.766945Z"
    },
    "scrolled": true,
    "tags": []
   },
   "outputs": [
    {
     "name": "stderr",
     "output_type": "stream",
     "text": [
      "Using custom data configuration default-34899e956fe68ef6\r\n"
     ]
    },
    {
     "name": "stdout",
     "output_type": "stream",
     "text": [
      "Downloading and preparing dataset json/default to /home/aistudio/.cache/huggingface/datasets/json/default-34899e956fe68ef6/0.0.0/0f7e3662623656454fcd2b650f34e886a7db4b9104504885bd462096cc7a9f51...\r\n"
     ]
    },
    {
     "data": {
      "application/vnd.jupyter.widget-view+json": {
       "model_id": "db6edbeb6e324b988a1e374591116c6f",
       "version_major": 2,
       "version_minor": 0
      },
      "text/plain": [
       "Downloading data files:   0%|          | 0/1 [00:00<?, ?it/s]"
      ]
     },
     "metadata": {},
     "output_type": "display_data"
    },
    {
     "data": {
      "application/vnd.jupyter.widget-view+json": {
       "model_id": "5ffdde0d28e64cf09d9a812be0b8a4a0",
       "version_major": 2,
       "version_minor": 0
      },
      "text/plain": [
       "Extracting data files:   0%|          | 0/1 [00:00<?, ?it/s]"
      ]
     },
     "metadata": {},
     "output_type": "display_data"
    },
    {
     "data": {
      "application/vnd.jupyter.widget-view+json": {
       "model_id": "",
       "version_major": 2,
       "version_minor": 0
      },
      "text/plain": [
       "Generating train split: 0 examples [00:00, ? examples/s]"
      ]
     },
     "metadata": {},
     "output_type": "display_data"
    },
    {
     "name": "stdout",
     "output_type": "stream",
     "text": [
      "Dataset json downloaded and prepared to /home/aistudio/.cache/huggingface/datasets/json/default-34899e956fe68ef6/0.0.0/0f7e3662623656454fcd2b650f34e886a7db4b9104504885bd462096cc7a9f51. Subsequent calls will reuse this data.\r\n"
     ]
    },
    {
     "name": "stderr",
     "output_type": "stream",
     "text": [
      "Using custom data configuration default-449716f3f5e4f3b0\r\n"
     ]
    },
    {
     "name": "stdout",
     "output_type": "stream",
     "text": [
      "Downloading and preparing dataset json/default to /home/aistudio/.cache/huggingface/datasets/json/default-449716f3f5e4f3b0/0.0.0/0f7e3662623656454fcd2b650f34e886a7db4b9104504885bd462096cc7a9f51...\r\n"
     ]
    },
    {
     "data": {
      "application/vnd.jupyter.widget-view+json": {
       "model_id": "06557b34efec4d6f87b0816300ac59d7",
       "version_major": 2,
       "version_minor": 0
      },
      "text/plain": [
       "Downloading data files:   0%|          | 0/1 [00:00<?, ?it/s]"
      ]
     },
     "metadata": {},
     "output_type": "display_data"
    },
    {
     "data": {
      "application/vnd.jupyter.widget-view+json": {
       "model_id": "e0629952129d4f0abd5c66f81f3df522",
       "version_major": 2,
       "version_minor": 0
      },
      "text/plain": [
       "Extracting data files:   0%|          | 0/1 [00:00<?, ?it/s]"
      ]
     },
     "metadata": {},
     "output_type": "display_data"
    },
    {
     "data": {
      "application/vnd.jupyter.widget-view+json": {
       "model_id": "",
       "version_major": 2,
       "version_minor": 0
      },
      "text/plain": [
       "Generating train split: 0 examples [00:00, ? examples/s]"
      ]
     },
     "metadata": {},
     "output_type": "display_data"
    },
    {
     "name": "stdout",
     "output_type": "stream",
     "text": [
      "Dataset json downloaded and prepared to /home/aistudio/.cache/huggingface/datasets/json/default-449716f3f5e4f3b0/0.0.0/0f7e3662623656454fcd2b650f34e886a7db4b9104504885bd462096cc7a9f51. Subsequent calls will reuse this data.\r\n"
     ]
    }
   ],
   "source": [
    "# 通过load_dataset读取本地数据集：train.json和valid.json\n",
    "train_dataset = load_dataset(\"json\", data_files='train.json', split=\"train\")\n",
    "dev_dataset = load_dataset(\"json\", data_files='valid.json', split=\"train\")"
   ]
  },
  {
   "cell_type": "markdown",
   "metadata": {},
   "source": [
    "### 3.3.3 数据格式转换"
   ]
  },
  {
   "cell_type": "markdown",
   "metadata": {
    "execution": {
     "iopub.execute_input": "2022-10-19T07:29:30.620429Z",
     "iopub.status.busy": "2022-10-19T07:29:30.619585Z",
     "iopub.status.idle": "2022-10-19T07:29:30.625640Z",
     "shell.execute_reply": "2022-10-19T07:29:30.624506Z",
     "shell.execute_reply.started": "2022-10-19T07:29:30.620390Z"
    }
   },
   "source": [
    "创建Tokenizer，用于分词，将token映射成id。"
   ]
  },
  {
   "cell_type": "markdown",
   "metadata": {
    "execution": {
     "iopub.execute_input": "2022-10-19T07:38:37.994478Z",
     "iopub.status.busy": "2022-10-19T07:38:37.993903Z",
     "iopub.status.idle": "2022-10-19T07:38:37.998124Z",
     "shell.execute_reply": "2022-10-19T07:38:37.997337Z",
     "shell.execute_reply.started": "2022-10-19T07:38:37.994430Z"
    }
   },
   "source": [
    "### 3.3.4 模型构建"
   ]
  },
  {
   "cell_type": "code",
   "execution_count": 4,
   "metadata": {
    "execution": {
     "iopub.execute_input": "2023-01-15T06:23:40.811922Z",
     "iopub.status.busy": "2023-01-15T06:23:40.811303Z",
     "iopub.status.idle": "2023-01-15T06:24:30.522037Z",
     "shell.execute_reply": "2023-01-15T06:24:30.520726Z",
     "shell.execute_reply.started": "2023-01-15T06:23:40.811895Z"
    },
    "scrolled": true,
    "tags": []
   },
   "outputs": [
    {
     "name": "stderr",
     "output_type": "stream",
     "text": [
      "[2023-01-15 14:23:40,813] [    INFO] - Downloading https://bj.bcebos.com/paddlenlp/models/community/IDEA-CCNL/Randeng-Pegasus-238M-Summary-Chinese/vocab.txt and saved to /home/aistudio/.paddlenlp/models/IDEA-CCNL/Randeng-Pegasus-238M-Summary-Chinese\r\n",
      "[2023-01-15 14:23:40,816] [    INFO] - Downloading vocab.txt from https://bj.bcebos.com/paddlenlp/models/community/IDEA-CCNL/Randeng-Pegasus-238M-Summary-Chinese/vocab.txt\r\n",
      "\r\n",
      "\r\n",
      "100%|██████████| 365k/365k [00:00<00:00, 28.6MB/s]\r\n",
      "[2023-01-15 14:23:40,938] [    INFO] - Downloading https://bj.bcebos.com/paddlenlp/models/community/IDEA-CCNL/Randeng-Pegasus-238M-Summary-Chinese/added_tokens.json and saved to /home/aistudio/.paddlenlp/models/IDEA-CCNL/Randeng-Pegasus-238M-Summary-Chinese\r\n",
      "[2023-01-15 14:23:40,941] [    INFO] - Downloading added_tokens.json from https://bj.bcebos.com/paddlenlp/models/community/IDEA-CCNL/Randeng-Pegasus-238M-Summary-Chinese/added_tokens.json\r\n",
      "\r\n",
      "\r\n",
      "100%|██████████| 2.00/2.00 [00:00<00:00, 1.70kB/s]\r\n",
      "[2023-01-15 14:23:41,034] [    INFO] - Downloading https://bj.bcebos.com/paddlenlp/models/community/IDEA-CCNL/Randeng-Pegasus-238M-Summary-Chinese/special_tokens_map.json and saved to /home/aistudio/.paddlenlp/models/IDEA-CCNL/Randeng-Pegasus-238M-Summary-Chinese\r\n",
      "[2023-01-15 14:23:41,037] [    INFO] - Downloading special_tokens_map.json from https://bj.bcebos.com/paddlenlp/models/community/IDEA-CCNL/Randeng-Pegasus-238M-Summary-Chinese/special_tokens_map.json\r\n",
      "\r\n",
      "\r\n",
      "100%|██████████| 65.0/65.0 [00:00<00:00, 42.0kB/s]\r\n",
      "[2023-01-15 14:23:41,151] [    INFO] - Downloading https://bj.bcebos.com/paddlenlp/models/community/IDEA-CCNL/Randeng-Pegasus-238M-Summary-Chinese/tokenizer_config.json and saved to /home/aistudio/.paddlenlp/models/IDEA-CCNL/Randeng-Pegasus-238M-Summary-Chinese\r\n",
      "[2023-01-15 14:23:41,153] [    INFO] - Downloading tokenizer_config.json from https://bj.bcebos.com/paddlenlp/models/community/IDEA-CCNL/Randeng-Pegasus-238M-Summary-Chinese/tokenizer_config.json\r\n",
      "\r\n",
      "\r\n",
      "100%|██████████| 2.00/2.00 [00:00<00:00, 1.55kB/s]\r\n",
      "[2023-01-15 14:23:41,311] [    INFO] - Downloading https://bj.bcebos.com/paddlenlp/models/community/IDEA-CCNL/Randeng-Pegasus-238M-Summary-Chinese/model_state.pdparams and saved to /home/aistudio/.paddlenlp/models/IDEA-CCNL/Randeng-Pegasus-238M-Summary-Chinese\r\n",
      "[2023-01-15 14:23:41,314] [    INFO] - Downloading model_state.pdparams from https://bj.bcebos.com/paddlenlp/models/community/IDEA-CCNL/Randeng-Pegasus-238M-Summary-Chinese/model_state.pdparams\r\n",
      "100%|██████████| 675M/675M [00:09<00:00, 74.0MB/s] \r\n",
      "[2023-01-15 14:23:50,989] [    INFO] - Downloading https://bj.bcebos.com/paddlenlp/models/community/IDEA-CCNL/Randeng-Pegasus-238M-Summary-Chinese/model_config.json and saved to /home/aistudio/.paddlenlp/models/IDEA-CCNL/Randeng-Pegasus-238M-Summary-Chinese\r\n",
      "[2023-01-15 14:23:50,991] [    INFO] - Downloading model_config.json from https://bj.bcebos.com/paddlenlp/models/community/IDEA-CCNL/Randeng-Pegasus-238M-Summary-Chinese/model_config.json\r\n",
      "100%|██████████| 731/731 [00:00<00:00, 449kB/s]\r\n"
     ]
    }
   ],
   "source": [
    "# 初始化分词器\n",
    "tokenizer = PegasusChineseTokenizer.from_pretrained('IDEA-CCNL/Randeng-Pegasus-238M-Summary-Chinese')\n",
    "\n",
    "# 初始化模型，也可以选择IDEA-CCNL/Randeng-Pegasus-523M-Summary-Chinese\n",
    "model = PegasusForConditionalGeneration.from_pretrained('IDEA-CCNL/Randeng-Pegasus-238M-Summary-Chinese')"
   ]
  },
  {
   "cell_type": "markdown",
   "metadata": {},
   "source": [
    "定义convert_example，将content和title文本映射成int类型的id，同时构造labels。"
   ]
  },
  {
   "cell_type": "code",
   "execution_count": 6,
   "metadata": {
    "execution": {
     "iopub.execute_input": "2023-01-15T06:24:30.571029Z",
     "iopub.status.busy": "2023-01-15T06:24:30.570417Z",
     "iopub.status.idle": "2023-01-15T06:24:30.578695Z",
     "shell.execute_reply": "2023-01-15T06:24:30.577883Z",
     "shell.execute_reply.started": "2023-01-15T06:24:30.571003Z"
    },
    "scrolled": true,
    "tags": []
   },
   "outputs": [
    {
     "data": {
      "text/plain": [
       "<module 'prepare' from '/home/aistudio/prepare.py'>"
      ]
     },
     "execution_count": 6,
     "metadata": {},
     "output_type": "execute_result"
    }
   ],
   "source": [
    "from aigc_pkg import prepare\n",
    "reload(prepare)"
   ]
  },
  {
   "cell_type": "code",
   "execution_count": 20,
   "metadata": {
    "execution": {
     "iopub.execute_input": "2023-01-15T06:31:06.546797Z",
     "iopub.status.busy": "2023-01-15T06:31:06.546232Z",
     "iopub.status.idle": "2023-01-15T06:31:06.552316Z",
     "shell.execute_reply": "2023-01-15T06:31:06.551511Z",
     "shell.execute_reply.started": "2023-01-15T06:31:06.546765Z"
    },
    "scrolled": true,
    "tags": []
   },
   "outputs": [],
   "source": [
    "# 原始字段需要移除\n",
    "remove_columns = ['content', 'title']\n",
    "# 文本的最大长度\n",
    "max_source_length = 128\n",
    "# 摘要的最大长度\n",
    "max_target_length = 64\n",
    "\n",
    "model_set = prepare.ModelSet(tokenizer, model)\n",
    "prepare_config = prepare.AbstractPrepareConfig(text_column='content', target_column='title',\n",
    "    max_source_length=max_source_length, max_target_length=max_target_length, min_target_length=0, batch_size=12)\n",
    "\n",
    "prepare_tool = prepare.AbstractGenerationPrapare(model_set, prepare_config)"
   ]
  },
  {
   "cell_type": "code",
   "execution_count": 9,
   "metadata": {
    "execution": {
     "iopub.execute_input": "2023-01-15T06:24:56.461904Z",
     "iopub.status.busy": "2023-01-15T06:24:56.460937Z",
     "iopub.status.idle": "2023-01-15T06:25:10.743655Z",
     "shell.execute_reply": "2023-01-15T06:25:10.742764Z",
     "shell.execute_reply.started": "2023-01-15T06:24:56.461867Z"
    },
    "scrolled": true,
    "tags": []
   },
   "outputs": [
    {
     "name": "stderr",
     "output_type": "stream",
     "text": [
      "Parameter 'function'=<bound method AbstractGenerationPrapare._convert_example of <prepare.AbstractGenerationPrapare object at 0x7fc3338bc510>> of the transform datasets.arrow_dataset.Dataset._map_single couldn't be hashed properly, a random hash was used instead. Make sure your transforms and parameters are serializable with pickle or dill for the dataset fingerprinting and caching to work. If you reuse this transform, the caching mechanism will consider it to be different from the previous calls and recompute everything. This warning is only showed once. Subsequent hashing failures won't be showed.\r\n"
     ]
    },
    {
     "data": {
      "application/vnd.jupyter.widget-view+json": {
       "model_id": "a49f92ce031345de97837ba097ae95eb",
       "version_major": 2,
       "version_minor": 0
      },
      "text/plain": [
       "  0%|          | 0/11 [00:00<?, ?ba/s]"
      ]
     },
     "metadata": {},
     "output_type": "display_data"
    },
    {
     "name": "stderr",
     "output_type": "stream",
     "text": [
      "Building prefix dict from the default dictionary ...\r\n",
      "Dumping model to file cache /tmp/jieba.cache\r\n",
      "Loading model cost 0.798 seconds.\r\n",
      "Prefix dict has been built successfully.\r\n"
     ]
    },
    {
     "data": {
      "application/vnd.jupyter.widget-view+json": {
       "model_id": "3a7a1d6322d54c87a4509fe474fb8e13",
       "version_major": 2,
       "version_minor": 0
      },
      "text/plain": [
       "  0%|          | 0/2 [00:00<?, ?ba/s]"
      ]
     },
     "metadata": {},
     "output_type": "display_data"
    }
   ],
   "source": [
    "train_dataset, dev_dataset = prepare_tool.get_dataset(train_dataset, dev_dataset, remove_columns)"
   ]
  },
  {
   "cell_type": "code",
   "execution_count": 10,
   "metadata": {
    "execution": {
     "iopub.execute_input": "2023-01-15T06:25:10.764663Z",
     "iopub.status.busy": "2023-01-15T06:25:10.763916Z",
     "iopub.status.idle": "2023-01-15T06:25:10.768349Z",
     "shell.execute_reply": "2023-01-15T06:25:10.767685Z",
     "shell.execute_reply.started": "2023-01-15T06:25:10.764636Z"
    },
    "scrolled": true,
    "tags": []
   },
   "outputs": [],
   "source": [
    "train_data_loader, dev_data_loader = prepare_tool.get_dataloader(train_dataset, dev_dataset)"
   ]
  },
  {
   "cell_type": "code",
   "execution_count": 11,
   "metadata": {
    "execution": {
     "iopub.execute_input": "2023-01-15T06:25:10.770347Z",
     "iopub.status.busy": "2023-01-15T06:25:10.769772Z",
     "iopub.status.idle": "2023-01-15T06:25:10.890338Z",
     "shell.execute_reply": "2023-01-15T06:25:10.889426Z",
     "shell.execute_reply.started": "2023-01-15T06:25:10.770300Z"
    },
    "scrolled": true,
    "tags": []
   },
   "outputs": [
    {
     "name": "stdout",
     "output_type": "stream",
     "text": [
      "{'input_ids': [21465, 18183, 266, 11548, 784, 27036, 8236, 3399, 30561, 12058, 5661, 3968, 32020, 12058, 5661, 12848, 257, 2274, 27194, 30447, 2274, 32018, 29935, 2333, 13087, 297, 3399, 13909, 5663, 122, 119, 230, 8311, 30346, 42506, 33335, 5664, 123, 119, 309, 297, 17406, 5661, 3968, 7005, 309, 21535, 17406, 5664, 124, 119, 4566, 17539, 23372, 5661, 365, 7040, 11026, 5664, 125, 119, 19747, 25416, 28777, 5661, 3968, 7005, 12350, 297, 1], 'attention_mask': [1, 1, 1, 1, 1, 1, 1, 1, 1, 1, 1, 1, 1, 1, 1, 1, 1, 1, 1, 1, 1, 1, 1, 1, 1, 1, 1, 1, 1, 1, 1, 1, 1, 1, 1, 1, 1, 1, 1, 1, 1, 1, 1, 1, 1, 1, 1, 1, 1, 1, 1, 1, 1, 1, 1, 1, 1, 1, 1, 1, 1, 1, 1, 1, 1, 1, 1, 1, 1, 1], 'labels': [784, 27036, 18984, 11565, 30561, 12058, 1]}\r\n",
      "{'input_ids': [43156, 1625, 36562, 810, 8311, 16475, 48063, 1626, 15849, 175, 1397, 1463, 346, 20039, 7136, 176, 5661, 32012, 297, 30447, 314, 1101, 1240, 1230, 527, 4628, 5661, 24631, 1101, 129, 1625, 807, 5661, 323, 48063, 230, 8486, 3399, 4585, 1497, 2305, 4054, 1934, 2355, 16764, 16900, 9715, 12721, 30342, 179, 21415, 5661, 2305, 4054, 1934, 2355, 1463, 346, 18526, 175, 26223, 3399, 43867, 176, 5661, 230, 8355, 12286, 9354, 2328, 1230, 3399, 31045, 179, 1], 'attention_mask': [1, 1, 1, 1, 1, 1, 1, 1, 1, 1, 1, 1, 1, 1, 1, 1, 1, 1, 1, 1, 1, 1, 1, 1, 1, 1, 1, 1, 1, 1, 1, 1, 1, 1, 1, 1, 1, 1, 1, 1, 1, 1, 1, 1, 1, 1, 1, 1, 1, 1, 1, 1, 1, 1, 1, 1, 1, 1, 1, 1, 1, 1, 1, 1, 1, 1, 1, 1, 1, 1, 1, 1, 1, 1, 1], 'labels': [41476, 297, 5663, 2305, 4054, 1934, 2355, 1463, 18526, 175, 26223, 3399, 43867, 176, 1]}\r\n",
      "{'input_ids': [33788, 12287, 43163, 1625, 3701, 1076, 1384, 1652, 4728, 1979, 5661, 1626, 19695, 266, 9601, 20579, 11120, 527, 19388, 3399, 47290, 33794, 5683, 100, 28624, 3399, 30421, 5661, 18842, 1463, 4920, 192, 8534, 3815, 35425, 36733, 3399, 15750, 19041, 10751, 3851, 28614, 179, 18645, 12319, 627, 5661, 33788, 28615, 6784, 266, 14737, 128, 100, 5661, 4118, 5746, 119, 5733, 28230, 179, 1], 'attention_mask': [1, 1, 1, 1, 1, 1, 1, 1, 1, 1, 1, 1, 1, 1, 1, 1, 1, 1, 1, 1, 1, 1, 1, 1, 1, 1, 1, 1, 1, 1, 1, 1, 1, 1, 1, 1, 1, 1, 1, 1, 1, 1, 1, 1, 1, 1, 1, 1, 1, 1, 1, 1, 1, 1, 1, 1, 1, 1, 1, 1, 1, 1], 'labels': [33788, 15842, 11120, 47290, 28616, 1]}\r\n"
     ]
    }
   ],
   "source": [
    "# 输出训练集的前 3 条样本\n",
    "for idx, example in enumerate(dev_dataset):\n",
    "    if idx < 3:\n",
    "        print(example) "
   ]
  },
  {
   "cell_type": "markdown",
   "metadata": {},
   "source": [
    "### 3.3.7 训练配置"
   ]
  },
  {
   "cell_type": "code",
   "execution_count": 23,
   "metadata": {
    "execution": {
     "iopub.execute_input": "2023-01-15T06:31:59.336589Z",
     "iopub.status.busy": "2023-01-15T06:31:59.335921Z",
     "iopub.status.idle": "2023-01-15T06:31:59.345330Z",
     "shell.execute_reply": "2023-01-15T06:31:59.344565Z",
     "shell.execute_reply.started": "2023-01-15T06:31:59.336554Z"
    },
    "scrolled": true,
    "tags": []
   },
   "outputs": [
    {
     "data": {
      "text/plain": [
       "<module 'generator' from '/home/aistudio/generator.py'>"
      ]
     },
     "execution_count": 23,
     "metadata": {},
     "output_type": "execute_result"
    }
   ],
   "source": [
    "from aigc_pkg import generator\n",
    "reload(generator)"
   ]
  },
  {
   "cell_type": "markdown",
   "metadata": {},
   "source": [
    "### 3.3.8 模型训练和评估"
   ]
  },
  {
   "cell_type": "code",
   "execution_count": 24,
   "metadata": {
    "execution": {
     "iopub.execute_input": "2023-01-15T06:31:59.878111Z",
     "iopub.status.busy": "2023-01-15T06:31:59.877129Z",
     "iopub.status.idle": "2023-01-15T06:31:59.887931Z",
     "shell.execute_reply": "2023-01-15T06:31:59.886750Z",
     "shell.execute_reply.started": "2023-01-15T06:31:59.878077Z"
    },
    "scrolled": true,
    "tags": []
   },
   "outputs": [],
   "source": [
    "gen_config = generator.AbstractGeneratorConfig(\n",
    "    # 学习率预热比例\n",
    "    warmup = 0.02,\n",
    "    # 学习率\n",
    "    learning_rate = 5e-5,\n",
    "    # 训练轮次\n",
    "    num_epochs = 3,\n",
    "    # AdamW优化器参数epsilon\n",
    "    adam_epsilon = 1e-6,\n",
    "    # AdamW优化器参数weight_decay\n",
    "    weight_decay=0.01,\n",
    "    # 训练中，每个log_steps打印一次日志\n",
    "    log_steps = 1,\n",
    "    # 训练中，每隔eval_steps进行一次模型评估\n",
    "    eval_steps = 1000,\n",
    "    # 摘要的最小长度\n",
    "    min_target_length = 0,\n",
    "    # 训练模型保存路径\n",
    "    output_dir = 'checkpoints',\n",
    "    # 解码beam size\n",
    "    num_beams = 4,\n",
    "    log_dir = 'visualdl_log_dir'\n",
    ")\n",
    "\n",
    "gen = generator.AbstractGenerator(train_data_loader, dev_data_loader, model_set, prepare_config, gen_config)"
   ]
  },
  {
   "cell_type": "code",
   "execution_count": 25,
   "metadata": {
    "execution": {
     "iopub.execute_input": "2023-01-15T06:32:13.166254Z",
     "iopub.status.busy": "2023-01-15T06:32:13.165100Z",
     "iopub.status.idle": "2023-01-15T06:34:57.572875Z",
     "shell.execute_reply": "2023-01-15T06:34:57.571587Z",
     "shell.execute_reply.started": "2023-01-15T06:32:13.166219Z"
    },
    "scrolled": true,
    "tags": []
   },
   "outputs": [
    {
     "name": "stderr",
     "output_type": "stream",
     "text": [
      "[2023-01-15 14:32:26,318] [    INFO] - global step 1/2667, epoch: 0, batch: 0, rank_id: 0, loss: 3.237796, lr: 0.0000009434, speed: 0.0760 step/s\r\n",
      "[2023-01-15 14:32:40,075] [    INFO] - global step 2/2667, epoch: 0, batch: 1, rank_id: 0, loss: 2.796072, lr: 0.0000018868, speed: 0.0727 step/s\r\n",
      "[2023-01-15 14:32:51,719] [    INFO] - global step 3/2667, epoch: 0, batch: 2, rank_id: 0, loss: 2.651275, lr: 0.0000028302, speed: 0.0859 step/s\r\n",
      "[2023-01-15 14:33:03,124] [    INFO] - global step 4/2667, epoch: 0, batch: 3, rank_id: 0, loss: 2.818508, lr: 0.0000037736, speed: 0.0877 step/s\r\n",
      "[2023-01-15 14:33:15,048] [    INFO] - global step 5/2667, epoch: 0, batch: 4, rank_id: 0, loss: 1.986750, lr: 0.0000047170, speed: 0.0839 step/s\r\n",
      "[2023-01-15 14:33:26,122] [    INFO] - global step 6/2667, epoch: 0, batch: 5, rank_id: 0, loss: 2.711296, lr: 0.0000056604, speed: 0.0903 step/s\r\n",
      "[2023-01-15 14:33:37,672] [    INFO] - global step 7/2667, epoch: 0, batch: 6, rank_id: 0, loss: 1.960042, lr: 0.0000066038, speed: 0.0866 step/s\r\n",
      "[2023-01-15 14:33:48,964] [    INFO] - global step 8/2667, epoch: 0, batch: 7, rank_id: 0, loss: 2.067619, lr: 0.0000075472, speed: 0.0886 step/s\r\n",
      "[2023-01-15 14:34:00,598] [    INFO] - global step 9/2667, epoch: 0, batch: 8, rank_id: 0, loss: 2.427359, lr: 0.0000084906, speed: 0.0860 step/s\r\n",
      "[2023-01-15 14:34:12,350] [    INFO] - global step 10/2667, epoch: 0, batch: 9, rank_id: 0, loss: 2.921121, lr: 0.0000094340, speed: 0.0851 step/s\r\n",
      "[2023-01-15 14:34:25,177] [    INFO] - global step 11/2667, epoch: 0, batch: 10, rank_id: 0, loss: 1.630543, lr: 0.0000103774, speed: 0.0780 step/s\r\n",
      "[2023-01-15 14:34:36,449] [    INFO] - global step 12/2667, epoch: 0, batch: 11, rank_id: 0, loss: 2.770340, lr: 0.0000113208, speed: 0.0887 step/s\r\n",
      "[2023-01-15 14:34:47,273] [    INFO] - global step 13/2667, epoch: 0, batch: 12, rank_id: 0, loss: 2.909928, lr: 0.0000122642, speed: 0.0924 step/s\r\n"
     ]
    },
    {
     "ename": "KeyboardInterrupt",
     "evalue": "",
     "output_type": "error",
     "traceback": [
      "\u001b[0;31m---------------------------------------------------------------------------\u001b[0m",
      "\u001b[0;31mKeyboardInterrupt\u001b[0m                         Traceback (most recent call last)",
      "\u001b[0;32m/tmp/ipykernel_175/2659751930.py\u001b[0m in \u001b[0;36m<module>\u001b[0;34m\u001b[0m\n\u001b[1;32m      1\u001b[0m \u001b[0;31m# 调用模型训练\u001b[0m\u001b[0;34m\u001b[0m\u001b[0;34m\u001b[0m\u001b[0;34m\u001b[0m\u001b[0m\n\u001b[0;32m----> 2\u001b[0;31m \u001b[0mgen\u001b[0m\u001b[0;34m.\u001b[0m\u001b[0mtrain\u001b[0m\u001b[0;34m(\u001b[0m\u001b[0;34m)\u001b[0m\u001b[0;34m\u001b[0m\u001b[0;34m\u001b[0m\u001b[0m\n\u001b[0m",
      "\u001b[0;32m~/generator.py\u001b[0m in \u001b[0;36mtrain\u001b[0;34m(self)\u001b[0m\n",
      "\u001b[0;32m<decorator-gen-249>\u001b[0m in \u001b[0;36mbackward\u001b[0;34m(self, grad_tensor, retain_graph)\u001b[0m\n",
      "\u001b[0;32m/opt/conda/envs/python35-paddle120-env/lib/python3.7/site-packages/paddle/fluid/wrapped_decorator.py\u001b[0m in \u001b[0;36m__impl__\u001b[0;34m(func, *args, **kwargs)\u001b[0m\n\u001b[1;32m     23\u001b[0m     \u001b[0;32mdef\u001b[0m \u001b[0m__impl__\u001b[0m\u001b[0;34m(\u001b[0m\u001b[0mfunc\u001b[0m\u001b[0;34m,\u001b[0m \u001b[0;34m*\u001b[0m\u001b[0margs\u001b[0m\u001b[0;34m,\u001b[0m \u001b[0;34m**\u001b[0m\u001b[0mkwargs\u001b[0m\u001b[0;34m)\u001b[0m\u001b[0;34m:\u001b[0m\u001b[0;34m\u001b[0m\u001b[0;34m\u001b[0m\u001b[0m\n\u001b[1;32m     24\u001b[0m         \u001b[0mwrapped_func\u001b[0m \u001b[0;34m=\u001b[0m \u001b[0mdecorator_func\u001b[0m\u001b[0;34m(\u001b[0m\u001b[0mfunc\u001b[0m\u001b[0;34m)\u001b[0m\u001b[0;34m\u001b[0m\u001b[0;34m\u001b[0m\u001b[0m\n\u001b[0;32m---> 25\u001b[0;31m         \u001b[0;32mreturn\u001b[0m \u001b[0mwrapped_func\u001b[0m\u001b[0;34m(\u001b[0m\u001b[0;34m*\u001b[0m\u001b[0margs\u001b[0m\u001b[0;34m,\u001b[0m \u001b[0;34m**\u001b[0m\u001b[0mkwargs\u001b[0m\u001b[0;34m)\u001b[0m\u001b[0;34m\u001b[0m\u001b[0;34m\u001b[0m\u001b[0m\n\u001b[0m\u001b[1;32m     26\u001b[0m \u001b[0;34m\u001b[0m\u001b[0m\n\u001b[1;32m     27\u001b[0m     \u001b[0;32mreturn\u001b[0m \u001b[0m__impl__\u001b[0m\u001b[0;34m\u001b[0m\u001b[0;34m\u001b[0m\u001b[0m\n",
      "\u001b[0;32m/opt/conda/envs/python35-paddle120-env/lib/python3.7/site-packages/paddle/fluid/framework.py\u001b[0m in \u001b[0;36m__impl__\u001b[0;34m(*args, **kwargs)\u001b[0m\n\u001b[1;32m    432\u001b[0m         assert _non_static_mode(\n\u001b[1;32m    433\u001b[0m         ), \"We only support '%s()' in dynamic graph mode, please call 'paddle.disable_static()' to enter dynamic graph mode.\" % func.__name__\n\u001b[0;32m--> 434\u001b[0;31m         \u001b[0;32mreturn\u001b[0m \u001b[0mfunc\u001b[0m\u001b[0;34m(\u001b[0m\u001b[0;34m*\u001b[0m\u001b[0margs\u001b[0m\u001b[0;34m,\u001b[0m \u001b[0;34m**\u001b[0m\u001b[0mkwargs\u001b[0m\u001b[0;34m)\u001b[0m\u001b[0;34m\u001b[0m\u001b[0;34m\u001b[0m\u001b[0m\n\u001b[0m\u001b[1;32m    435\u001b[0m \u001b[0;34m\u001b[0m\u001b[0m\n\u001b[1;32m    436\u001b[0m     \u001b[0;32mreturn\u001b[0m \u001b[0m__impl__\u001b[0m\u001b[0;34m\u001b[0m\u001b[0;34m\u001b[0m\u001b[0m\n",
      "\u001b[0;32m/opt/conda/envs/python35-paddle120-env/lib/python3.7/site-packages/paddle/fluid/dygraph/varbase_patch_methods.py\u001b[0m in \u001b[0;36mbackward\u001b[0;34m(self, grad_tensor, retain_graph)\u001b[0m\n\u001b[1;32m    291\u001b[0m                     core.dygraph_run_backward([self], [grad_tensor],\n\u001b[1;32m    292\u001b[0m                                               \u001b[0mretain_graph\u001b[0m\u001b[0;34m,\u001b[0m\u001b[0;34m\u001b[0m\u001b[0;34m\u001b[0m\u001b[0m\n\u001b[0;32m--> 293\u001b[0;31m                                               framework._dygraph_tracer())\n\u001b[0m\u001b[1;32m    294\u001b[0m             \u001b[0;32mif\u001b[0m \u001b[0min_profiler_mode\u001b[0m\u001b[0;34m(\u001b[0m\u001b[0;34m)\u001b[0m\u001b[0;34m:\u001b[0m\u001b[0;34m\u001b[0m\u001b[0;34m\u001b[0m\u001b[0m\n\u001b[1;32m    295\u001b[0m                 \u001b[0mrecord_event\u001b[0m\u001b[0;34m.\u001b[0m\u001b[0mend\u001b[0m\u001b[0;34m(\u001b[0m\u001b[0;34m)\u001b[0m\u001b[0;34m\u001b[0m\u001b[0;34m\u001b[0m\u001b[0m\n",
      "\u001b[0;31mKeyboardInterrupt\u001b[0m: "
     ]
    }
   ],
   "source": [
    "# 调用模型训练\n",
    "gen.train()"
   ]
  },
  {
   "cell_type": "markdown",
   "metadata": {},
   "source": [
    "### 3.3.9 模型推理"
   ]
  },
  {
   "cell_type": "code",
   "execution_count": 27,
   "metadata": {
    "execution": {
     "iopub.execute_input": "2022-10-26T01:59:05.819905Z",
     "iopub.status.busy": "2022-10-26T01:59:05.815370Z",
     "iopub.status.idle": "2022-10-26T01:59:15.044387Z",
     "shell.execute_reply": "2022-10-26T01:59:15.042694Z",
     "shell.execute_reply.started": "2022-10-26T01:59:05.819861Z"
    },
    "scrolled": true,
    "tags": []
   },
   "outputs": [],
   "source": [
    "# 加载训练好的模型\n",
    "model = PegasusForConditionalGeneration.from_pretrained('checkpoints')\n",
    "model.eval()\n",
    "tokenizer = PegasusChineseTokenizer.from_pretrained('checkpoints')"
   ]
  },
  {
   "cell_type": "code",
   "execution_count": 28,
   "metadata": {
    "execution": {
     "iopub.execute_input": "2022-10-26T01:59:16.668550Z",
     "iopub.status.busy": "2022-10-26T01:59:16.667859Z",
     "iopub.status.idle": "2022-10-26T01:59:17.547740Z",
     "shell.execute_reply": "2022-10-26T01:59:17.546501Z",
     "shell.execute_reply.started": "2022-10-26T01:59:16.668500Z"
    },
    "scrolled": true,
    "tags": []
   },
   "outputs": [
    {
     "name": "stdout",
     "output_type": "stream",
     "text": [
      "冬奥会自由式滑雪女子坡面障碍技巧谷爱凌摘银\r\n"
     ]
    }
   ],
   "source": [
    "# 推理\n",
    "text = '在北京冬奥会自由式滑雪女子坡面障碍技巧决赛中，中国选手谷爱凌夺得银牌。祝贺谷爱凌！今天上午，自由式滑雪女子坡面障碍技巧决赛举行。决赛分三轮进行，取选手最佳成绩排名决出奖牌。第一跳，中国选手谷爱凌获得69.90分。在12位选手中排名第三。完成动作后，谷爱凌又扮了个鬼脸，甚是可爱。第二轮中，谷爱凌在道具区第三个障碍处失误，落地时摔倒。获得16.98分。网友：摔倒了也没关系，继续加油！在第二跳失误摔倒的情况下，谷爱凌顶住压力，第三跳稳稳发挥，流畅落地！获得86.23分！此轮比赛，共12位选手参赛，谷爱凌第10位出场。网友：看比赛时我比谷爱凌紧张，加油！'\n",
    "gen.infer(text, text_column='input_ids', decode_strategy='beam_search')"
   ]
  },
  {
   "cell_type": "markdown",
   "metadata": {},
   "source": [
    "完整项目（包括推理部署）见：[https://github.com/PaddlePaddle/PaddleNLP/blob/develop/applications/text_summarization/pegasus](https://github.com/PaddlePaddle/PaddleNLP/blob/develop/applications/text_summarization/pegasus)\n",
    "<br></br>\n",
    "\n",
    "![](https://ai-studio-static-online.cdn.bcebos.com/ae5787c7f5ac42b3992e2f4bf5f8fc4e0b35c1df59924a94a908b66741147792)\n"
   ]
  },
  {
   "cell_type": "markdown",
   "metadata": {},
   "source": [
    "请点击[此处](https://ai.baidu.com/docs#/AIStudio_Project_Notebook/a38e5576)查看本环境基本用法.  <br>\n",
    "Please click [here ](https://ai.baidu.com/docs#/AIStudio_Project_Notebook/a38e5576) for more detailed instructions. "
   ]
  }
 ],
 "metadata": {
  "kernelspec": {
   "display_name": "Python 3",
   "language": "python",
   "name": "py35-paddle1.2.0"
  },
  "language_info": {
   "codemirror_mode": {
    "name": "ipython",
    "version": 3
   },
   "file_extension": ".py",
   "mimetype": "text/x-python",
   "name": "python",
   "nbconvert_exporter": "python",
   "pygments_lexer": "ipython3",
   "version": "3.7.4"
  },
  "toc-autonumbering": false
 },
 "nbformat": 4,
 "nbformat_minor": 4
}
